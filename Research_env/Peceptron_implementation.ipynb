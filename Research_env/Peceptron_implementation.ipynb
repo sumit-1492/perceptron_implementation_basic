{
 "cells": [
  {
   "cell_type": "code",
   "execution_count": 11,
   "id": "8b746ee1",
   "metadata": {},
   "outputs": [],
   "source": [
    "import os\n",
    "import matplotlib.pyplot as plt\n",
    "import joblib\n",
    "import pandas as pd\n",
    "import numpy as np\n",
    "\n",
    "plt.style.use(\"fivethirtyeight\")"
   ]
  },
  {
   "cell_type": "code",
   "execution_count": 29,
   "id": "d01113a0",
   "metadata": {},
   "outputs": [],
   "source": [
    "class perceptron:\n",
    "    def __init__(self, eta: float=None, epochs: int=None):\n",
    "        self.weights = np.random.randn(3) * 1e-4\n",
    "        self.eta = eta #learning rate\n",
    "        self.epochs = epochs #iterations\n",
    "        \n",
    "    def _z_outcome(self, inputs, weights): # starting point , inputs*weights\n",
    "        return np.dot(inputs,weights)\n",
    "        \n",
    "    def activation_function(self,z):\n",
    "        return np.where(z> 0, 1, 0) #z>0 output will be one\n",
    "    \n",
    "    def fit(self, X, y):\n",
    "        self.X = X\n",
    "        self.y = y\n",
    "        \n",
    "        X_with_bias = np.c_[self.X, -np.ones((len(self.X),1))]\n",
    "        print(f\"X with bias:\\n{X_with_bias}\")\n",
    "        \n",
    "        for epoch in range(self.epochs):\n",
    "            print(\"----\"*10)\n",
    "            print(f\"for epoch >> {epoch+1}\")\n",
    "            print(\"----\"*10)\n",
    "            \n",
    "            z = self._z_outcome(X_with_bias, self.weights)\n",
    "            y_hat = self.activation_function(z)\n",
    "            print(f\"predicted value after the forward pass:\\n{y_hat}\")\n",
    "            \n",
    "            self.error = self.y - y_hat\n",
    "            print(f\"error:\\n{self.error}\")\n",
    "            self.weights = self.weights + self.eta * np.dot(X_with_bias.T, self.error)\n",
    "            print(f\"updated weights after epoch: {epoch+1}/{self.epochs}: \\n{y_hat}\")\n",
    "            print(f\"##\"*10)\n",
    "\n",
    "    def predict(self, X):\n",
    "        X_with_bias = np.c_[X, -np.ones((len(X),1))]\n",
    "        z = self._z_outcome(X_with_bias, self.weights)\n",
    "        return self.activation_function(z)"
   ]
  },
  {
   "cell_type": "code",
   "execution_count": 30,
   "id": "f3d84456",
   "metadata": {},
   "outputs": [
    {
     "data": {
      "text/html": [
       "<div>\n",
       "<style scoped>\n",
       "    .dataframe tbody tr th:only-of-type {\n",
       "        vertical-align: middle;\n",
       "    }\n",
       "\n",
       "    .dataframe tbody tr th {\n",
       "        vertical-align: top;\n",
       "    }\n",
       "\n",
       "    .dataframe thead th {\n",
       "        text-align: right;\n",
       "    }\n",
       "</style>\n",
       "<table border=\"1\" class=\"dataframe\">\n",
       "  <thead>\n",
       "    <tr style=\"text-align: right;\">\n",
       "      <th></th>\n",
       "      <th>x1</th>\n",
       "      <th>x2</th>\n",
       "      <th>y</th>\n",
       "    </tr>\n",
       "  </thead>\n",
       "  <tbody>\n",
       "    <tr>\n",
       "      <th>0</th>\n",
       "      <td>0</td>\n",
       "      <td>0</td>\n",
       "      <td>0</td>\n",
       "    </tr>\n",
       "    <tr>\n",
       "      <th>1</th>\n",
       "      <td>0</td>\n",
       "      <td>1</td>\n",
       "      <td>1</td>\n",
       "    </tr>\n",
       "    <tr>\n",
       "      <th>2</th>\n",
       "      <td>1</td>\n",
       "      <td>0</td>\n",
       "      <td>1</td>\n",
       "    </tr>\n",
       "    <tr>\n",
       "      <th>3</th>\n",
       "      <td>1</td>\n",
       "      <td>1</td>\n",
       "      <td>1</td>\n",
       "    </tr>\n",
       "  </tbody>\n",
       "</table>\n",
       "</div>"
      ],
      "text/plain": [
       "   x1  x2  y\n",
       "0   0   0  0\n",
       "1   0   1  1\n",
       "2   1   0  1\n",
       "3   1   1  1"
      ]
     },
     "execution_count": 30,
     "metadata": {},
     "output_type": "execute_result"
    }
   ],
   "source": [
    "OR = {\n",
    "    \"x1\" : [0,0,1,1],\n",
    "    \"x2\" : [0,1,0,1],\n",
    "    \"y\"  : [0,1,1,1]\n",
    "}\n",
    "\n",
    "df_OR = pd.DataFrame(OR)\n",
    "\n",
    "df_OR"
   ]
  },
  {
   "cell_type": "code",
   "execution_count": 31,
   "id": "1722b65f",
   "metadata": {},
   "outputs": [],
   "source": [
    "def prepare_data(df, target_col=\"y\"):\n",
    "    X = df.drop(target_col, axis = 1)\n",
    "    y = df[target_col]\n",
    "    return X,y"
   ]
  },
  {
   "cell_type": "code",
   "execution_count": 36,
   "id": "f37a2678",
   "metadata": {},
   "outputs": [
    {
     "name": "stdout",
     "output_type": "stream",
     "text": [
      "X with bias:\n",
      "[[ 0.  0. -1.]\n",
      " [ 0.  1. -1.]\n",
      " [ 1.  0. -1.]\n",
      " [ 1.  1. -1.]]\n",
      "----------------------------------------\n",
      "for epoch >> 1\n",
      "----------------------------------------\n",
      "predicted value after the forward pass:\n",
      "[1 1 1 1]\n",
      "error:\n",
      "0   -1\n",
      "1    0\n",
      "2    0\n",
      "3    0\n",
      "Name: y, dtype: int64\n",
      "updated weights after epoch: 1/10: \n",
      "[1 1 1 1]\n",
      "####################\n",
      "----------------------------------------\n",
      "for epoch >> 2\n",
      "----------------------------------------\n",
      "predicted value after the forward pass:\n",
      "[0 0 0 0]\n",
      "error:\n",
      "0    0\n",
      "1    1\n",
      "2    1\n",
      "3    1\n",
      "Name: y, dtype: int64\n",
      "updated weights after epoch: 2/10: \n",
      "[0 0 0 0]\n",
      "####################\n",
      "----------------------------------------\n",
      "for epoch >> 3\n",
      "----------------------------------------\n",
      "predicted value after the forward pass:\n",
      "[1 1 1 1]\n",
      "error:\n",
      "0   -1\n",
      "1    0\n",
      "2    0\n",
      "3    0\n",
      "Name: y, dtype: int64\n",
      "updated weights after epoch: 3/10: \n",
      "[1 1 1 1]\n",
      "####################\n",
      "----------------------------------------\n",
      "for epoch >> 4\n",
      "----------------------------------------\n",
      "predicted value after the forward pass:\n",
      "[1 1 1 1]\n",
      "error:\n",
      "0   -1\n",
      "1    0\n",
      "2    0\n",
      "3    0\n",
      "Name: y, dtype: int64\n",
      "updated weights after epoch: 4/10: \n",
      "[1 1 1 1]\n",
      "####################\n",
      "----------------------------------------\n",
      "for epoch >> 5\n",
      "----------------------------------------\n",
      "predicted value after the forward pass:\n",
      "[1 1 1 1]\n",
      "error:\n",
      "0   -1\n",
      "1    0\n",
      "2    0\n",
      "3    0\n",
      "Name: y, dtype: int64\n",
      "updated weights after epoch: 5/10: \n",
      "[1 1 1 1]\n",
      "####################\n",
      "----------------------------------------\n",
      "for epoch >> 6\n",
      "----------------------------------------\n",
      "predicted value after the forward pass:\n",
      "[0 1 1 1]\n",
      "error:\n",
      "0    0\n",
      "1    0\n",
      "2    0\n",
      "3    0\n",
      "Name: y, dtype: int64\n",
      "updated weights after epoch: 6/10: \n",
      "[0 1 1 1]\n",
      "####################\n",
      "----------------------------------------\n",
      "for epoch >> 7\n",
      "----------------------------------------\n",
      "predicted value after the forward pass:\n",
      "[0 1 1 1]\n",
      "error:\n",
      "0    0\n",
      "1    0\n",
      "2    0\n",
      "3    0\n",
      "Name: y, dtype: int64\n",
      "updated weights after epoch: 7/10: \n",
      "[0 1 1 1]\n",
      "####################\n",
      "----------------------------------------\n",
      "for epoch >> 8\n",
      "----------------------------------------\n",
      "predicted value after the forward pass:\n",
      "[0 1 1 1]\n",
      "error:\n",
      "0    0\n",
      "1    0\n",
      "2    0\n",
      "3    0\n",
      "Name: y, dtype: int64\n",
      "updated weights after epoch: 8/10: \n",
      "[0 1 1 1]\n",
      "####################\n",
      "----------------------------------------\n",
      "for epoch >> 9\n",
      "----------------------------------------\n",
      "predicted value after the forward pass:\n",
      "[0 1 1 1]\n",
      "error:\n",
      "0    0\n",
      "1    0\n",
      "2    0\n",
      "3    0\n",
      "Name: y, dtype: int64\n",
      "updated weights after epoch: 9/10: \n",
      "[0 1 1 1]\n",
      "####################\n",
      "----------------------------------------\n",
      "for epoch >> 10\n",
      "----------------------------------------\n",
      "predicted value after the forward pass:\n",
      "[0 1 1 1]\n",
      "error:\n",
      "0    0\n",
      "1    0\n",
      "2    0\n",
      "3    0\n",
      "Name: y, dtype: int64\n",
      "updated weights after epoch: 10/10: \n",
      "[0 1 1 1]\n",
      "####################\n"
     ]
    }
   ],
   "source": [
    "X, y = prepare_data(df_OR)\n",
    "\n",
    "ETA = 0.1\n",
    "EPOCHS = 10\n",
    "\n",
    "model_or = perceptron(eta = ETA, epochs = EPOCHS)\n",
    "\n",
    "model_or.fit(X, y)"
   ]
  },
  {
   "cell_type": "code",
   "execution_count": 15,
   "id": "cd3beff7",
   "metadata": {},
   "outputs": [
    {
     "data": {
      "text/html": [
       "<div>\n",
       "<style scoped>\n",
       "    .dataframe tbody tr th:only-of-type {\n",
       "        vertical-align: middle;\n",
       "    }\n",
       "\n",
       "    .dataframe tbody tr th {\n",
       "        vertical-align: top;\n",
       "    }\n",
       "\n",
       "    .dataframe thead th {\n",
       "        text-align: right;\n",
       "    }\n",
       "</style>\n",
       "<table border=\"1\" class=\"dataframe\">\n",
       "  <thead>\n",
       "    <tr style=\"text-align: right;\">\n",
       "      <th></th>\n",
       "      <th>x1</th>\n",
       "      <th>x2</th>\n",
       "    </tr>\n",
       "  </thead>\n",
       "  <tbody>\n",
       "    <tr>\n",
       "      <th>0</th>\n",
       "      <td>0</td>\n",
       "      <td>0</td>\n",
       "    </tr>\n",
       "    <tr>\n",
       "      <th>1</th>\n",
       "      <td>0</td>\n",
       "      <td>1</td>\n",
       "    </tr>\n",
       "    <tr>\n",
       "      <th>2</th>\n",
       "      <td>1</td>\n",
       "      <td>0</td>\n",
       "    </tr>\n",
       "    <tr>\n",
       "      <th>3</th>\n",
       "      <td>1</td>\n",
       "      <td>1</td>\n",
       "    </tr>\n",
       "  </tbody>\n",
       "</table>\n",
       "</div>"
      ],
      "text/plain": [
       "   x1  x2\n",
       "0   0   0\n",
       "1   0   1\n",
       "2   1   0\n",
       "3   1   1"
      ]
     },
     "execution_count": 15,
     "metadata": {},
     "output_type": "execute_result"
    }
   ],
   "source": [
    "X"
   ]
  },
  {
   "cell_type": "code",
   "execution_count": 16,
   "id": "c5793d17",
   "metadata": {},
   "outputs": [
    {
     "data": {
      "text/plain": [
       "0    0\n",
       "1    1\n",
       "2    1\n",
       "3    1\n",
       "Name: y, dtype: int64"
      ]
     },
     "execution_count": 16,
     "metadata": {},
     "output_type": "execute_result"
    }
   ],
   "source": [
    "y"
   ]
  },
  {
   "cell_type": "code",
   "execution_count": 28,
   "id": "18fb50b7",
   "metadata": {},
   "outputs": [
    {
     "data": {
      "text/plain": [
       "array([0, 1, 1, 1])"
      ]
     },
     "execution_count": 28,
     "metadata": {},
     "output_type": "execute_result"
    }
   ],
   "source": [
    "model_or.predict(X)"
   ]
  },
  {
   "cell_type": "code",
   "execution_count": 34,
   "id": "2a489d66",
   "metadata": {},
   "outputs": [
    {
     "data": {
      "text/plain": [
       "array([ 2.11071552e-06, -8.92504753e-05,  1.26404910e-04])"
      ]
     },
     "execution_count": 34,
     "metadata": {},
     "output_type": "execute_result"
    }
   ],
   "source": [
    "np.random.randn(3) * 1e-4"
   ]
  },
  {
   "cell_type": "code",
   "execution_count": null,
   "id": "4d7d87e3",
   "metadata": {},
   "outputs": [],
   "source": []
  }
 ],
 "metadata": {
  "kernelspec": {
   "display_name": "Python 3 (ipykernel)",
   "language": "python",
   "name": "python3"
  },
  "language_info": {
   "codemirror_mode": {
    "name": "ipython",
    "version": 3
   },
   "file_extension": ".py",
   "mimetype": "text/x-python",
   "name": "python",
   "nbconvert_exporter": "python",
   "pygments_lexer": "ipython3",
   "version": "3.7.11"
  }
 },
 "nbformat": 4,
 "nbformat_minor": 5
}
